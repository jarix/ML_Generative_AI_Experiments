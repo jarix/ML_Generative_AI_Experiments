{
 "cells": [
  {
   "cell_type": "markdown",
   "id": "e376eee8",
   "metadata": {},
   "source": [
    "# Hello PixelCNN using Tensorflow mixture distrobutions on MNIST dataset"
   ]
  },
  {
   "cell_type": "code",
   "execution_count": 20,
   "id": "39901b2b",
   "metadata": {},
   "outputs": [
    {
     "name": "stdout",
     "output_type": "stream",
     "text": [
      "Python Version:  3.12.3 (main, Feb  4 2025, 14:48:35) [GCC 13.3.0]\n"
     ]
    }
   ],
   "source": [
    "# Prerequisites\n",
    "import sys\n",
    "import numpy as np\n",
    "import matplotlib.pyplot as plt\n",
    "%matplotlib inline\n",
    "\n",
    "import tensorflow as tf\n",
    "from tensorflow.keras import datasets, layers, models, optimizers, callbacks\n",
    "\n",
    "# pip install tensorflow_probability[tf]\n",
    "import tensorflow_probability as tfp\n",
    "\n",
    "from utils import display\n",
    "\n",
    "print(\"Python Version: \", sys.version)"
   ]
  },
  {
   "cell_type": "markdown",
   "id": "d4e3df02",
   "metadata": {},
   "source": [
    "### Get Data\n",
    "Use FashionMNIST from TensorFlow datasets"
   ]
  },
  {
   "cell_type": "code",
   "execution_count": 2,
   "id": "d9554f3b",
   "metadata": {},
   "outputs": [],
   "source": [
    "\n",
    "(x_train, _), (_, _) = datasets.mnist.load_data()"
   ]
  },
  {
   "cell_type": "markdown",
   "id": "ec5ea277",
   "metadata": {},
   "source": [
    "### Preprocess Data"
   ]
  },
  {
   "cell_type": "markdown",
   "id": "392a5c88",
   "metadata": {},
   "source": [
    "Scale down in size and image depth to make the training time reasonable"
   ]
  },
  {
   "cell_type": "code",
   "execution_count": 3,
   "id": "a9ee1fb7",
   "metadata": {},
   "outputs": [
    {
     "data": {
      "image/png": "[encoded data removed]",
      "text/plain": [
       "<Figure size 2000x300 with 10 Axes>"
      ]
     },
     "metadata": {},
     "output_type": "display_data"
    }
   ],
   "source": [
    "IMAGE_SIZE = 28 # MNIST images are 28x28 pixels\n",
    "\n",
    "x_train = x_train.astype(\"float32\") / 255.0\n",
    "x_train = np.expand_dims(x_train, axis=-1)  # (N, 28, 28, 1\n",
    "\n",
    "# Display some sample preprocessed images\n",
    "display(x_train)"
   ]
  },
  {
   "cell_type": "markdown",
   "id": "3ce34e74",
   "metadata": {},
   "source": [
    "### Define PixelCNN"
   ]
  },
  {
   "cell_type": "markdown",
   "id": "244ea784",
   "metadata": {},
   "source": [
    "#### Define PixelCNN itself"
   ]
  },
  {
   "cell_type": "code",
   "execution_count": 15,
   "id": "92f0c50d",
   "metadata": {},
   "outputs": [],
   "source": [
    "N_COMPONENTS = 5\n",
    "\n",
    "class LogProbLayer(layers.Layer):\n",
    "    def __init__(self, image_shape, **kwargs):\n",
    "        super().__init__(**kwargs)\n",
    "        self.image_shape = image_shape\n",
    "\n",
    "    def build(self, input_shape):\n",
    "        self.dist = tfp.distributions.PixelCNN(\n",
    "            image_shape=self.image_shape,\n",
    "            num_resnet=1,\n",
    "            num_hierarchies=2,\n",
    "            num_filters=32,\n",
    "            num_logistic_mix=5,\n",
    "            dropout_p=0.3,\n",
    "        )\n",
    "\n",
    "    def call(self, inputs):\n",
    "        log_prob = self.dist.log_prob(inputs)\n",
    "        self.add_loss(-tf.reduce_mean(log_prob))\n",
    "        return log_prob\n",
    "    \n",
    "    def sample(self, n_samples):\n",
    "        return self.dist.sample(n_samples)"
   ]
  },
  {
   "cell_type": "code",
   "execution_count": 16,
   "id": "c7911107",
   "metadata": {},
   "outputs": [],
   "source": [
    "# Keras Functional API Model\n",
    "image_input = layers.Input(shape=(IMAGE_SIZE, IMAGE_SIZE, 1))\n",
    "log_prob_output = LogProbLayer((IMAGE_SIZE, IMAGE_SIZE, 1))(image_input)\n",
    "pixelcnn = models.Model(inputs=image_input, outputs=log_prob_output)"
   ]
  },
  {
   "cell_type": "markdown",
   "id": "fd1831ce",
   "metadata": {},
   "source": [
    "### Compile and Train the PixelCNN"
   ]
  },
  {
   "cell_type": "code",
   "execution_count": 17,
   "id": "de31eae6",
   "metadata": {},
   "outputs": [
    {
     "name": "stdout",
     "output_type": "stream",
     "text": [
      "Epoch 1/10\n"
     ]
    },
    {
     "name": "stderr",
     "output_type": "stream",
     "text": [
      "/home/jari/MyGitHub/ML_Generative_AI_Experiments/.venv/lib/python3.12/site-packages/keras/src/backend/tensorflow/trainer.py:82: UserWarning: The model does not have any trainable weights.\n",
      "  warnings.warn(\"The model does not have any trainable weights.\")\n"
     ]
    },
    {
     "name": "stdout",
     "output_type": "stream",
     "text": [
      "\u001b[1m469/469\u001b[0m \u001b[32m━━━━━━━━━━━━━━━━━━━━\u001b[0m\u001b[37m\u001b[0m \u001b[1m15s\u001b[0m 23ms/step - loss: 1150.9664\n",
      "Epoch 2/10\n",
      "\u001b[1m469/469\u001b[0m \u001b[32m━━━━━━━━━━━━━━━━━━━━\u001b[0m\u001b[37m\u001b[0m \u001b[1m8s\u001b[0m 16ms/step - loss: 1149.9579\n",
      "Epoch 3/10\n",
      "\u001b[1m469/469\u001b[0m \u001b[32m━━━━━━━━━━━━━━━━━━━━\u001b[0m\u001b[37m\u001b[0m \u001b[1m8s\u001b[0m 16ms/step - loss: 1150.5063\n",
      "Epoch 4/10\n",
      "\u001b[1m469/469\u001b[0m \u001b[32m━━━━━━━━━━━━━━━━━━━━\u001b[0m\u001b[37m\u001b[0m \u001b[1m8s\u001b[0m 16ms/step - loss: 1150.4104\n",
      "Epoch 5/10\n",
      "\u001b[1m469/469\u001b[0m \u001b[32m━━━━━━━━━━━━━━━━━━━━\u001b[0m\u001b[37m\u001b[0m \u001b[1m8s\u001b[0m 16ms/step - loss: 1150.4988\n",
      "Epoch 6/10\n",
      "\u001b[1m469/469\u001b[0m \u001b[32m━━━━━━━━━━━━━━━━━━━━\u001b[0m\u001b[37m\u001b[0m \u001b[1m7s\u001b[0m 16ms/step - loss: 1150.6171\n",
      "Epoch 7/10\n",
      "\u001b[1m469/469\u001b[0m \u001b[32m━━━━━━━━━━━━━━━━━━━━\u001b[0m\u001b[37m\u001b[0m \u001b[1m7s\u001b[0m 16ms/step - loss: 1150.3417\n",
      "Epoch 8/10\n",
      "\u001b[1m469/469\u001b[0m \u001b[32m━━━━━━━━━━━━━━━━━━━━\u001b[0m\u001b[37m\u001b[0m \u001b[1m7s\u001b[0m 16ms/step - loss: 1150.7551\n",
      "Epoch 9/10\n",
      "\u001b[1m469/469\u001b[0m \u001b[32m━━━━━━━━━━━━━━━━━━━━\u001b[0m\u001b[37m\u001b[0m \u001b[1m7s\u001b[0m 16ms/step - loss: 1150.6869\n",
      "Epoch 10/10\n",
      "\u001b[1m469/469\u001b[0m \u001b[32m━━━━━━━━━━━━━━━━━━━━\u001b[0m\u001b[37m\u001b[0m \u001b[1m7s\u001b[0m 16ms/step - loss: 1151.0972\n"
     ]
    },
    {
     "data": {
      "text/plain": [
       "<keras.src.callbacks.history.History at 0x701eb0755c10>"
      ]
     },
     "execution_count": 17,
     "metadata": {},
     "output_type": "execute_result"
    }
   ],
   "source": [
    "BATCH_SIZE = 128\n",
    "EPOCHS = 10\n",
    "\n",
    "# Compile and train the model\n",
    "pixelcnn.compile(optimizer='adam')\n",
    "pixelcnn.fit(x_train, batch_size=BATCH_SIZE, epochs=EPOCHS)"
   ]
  },
  {
   "cell_type": "code",
   "execution_count": 18,
   "id": "8ed990e8",
   "metadata": {},
   "outputs": [
    {
     "data": {
      "text/html": [
       "<pre style=\"white-space:pre;overflow-x:auto;line-height:normal;font-family:Menlo,'DejaVu Sans Mono',consolas,'Courier New',monospace\"><span style=\"font-weight: bold\">Model: \"functional_1\"</span>\n",
       "</pre>\n"
      ],
      "text/plain": [
       "\u001b[1mModel: \"functional_1\"\u001b[0m\n"
      ]
     },
     "metadata": {},
     "output_type": "display_data"
    },
    {
     "data": {
      "text/html": [
       "<pre style=\"white-space:pre;overflow-x:auto;line-height:normal;font-family:Menlo,'DejaVu Sans Mono',consolas,'Courier New',monospace\">┏━━━━━━━━━━━━━━━━━━━━━━━━━━━━━━━━━┳━━━━━━━━━━━━━━━━━━━━━━━━┳━━━━━━━━━━━━━━━┓\n",
       "┃<span style=\"font-weight: bold\"> Layer (type)                    </span>┃<span style=\"font-weight: bold\"> Output Shape           </span>┃<span style=\"font-weight: bold\">       Param # </span>┃\n",
       "┡━━━━━━━━━━━━━━━━━━━━━━━━━━━━━━━━━╇━━━━━━━━━━━━━━━━━━━━━━━━╇━━━━━━━━━━━━━━━┩\n",
       "│ input_layer_1 (<span style=\"color: #0087ff; text-decoration-color: #0087ff\">InputLayer</span>)      │ (<span style=\"color: #00d7ff; text-decoration-color: #00d7ff\">None</span>, <span style=\"color: #00af00; text-decoration-color: #00af00\">28</span>, <span style=\"color: #00af00; text-decoration-color: #00af00\">28</span>, <span style=\"color: #00af00; text-decoration-color: #00af00\">1</span>)      │             <span style=\"color: #00af00; text-decoration-color: #00af00\">0</span> │\n",
       "├─────────────────────────────────┼────────────────────────┼───────────────┤\n",
       "│ log_prob_layer_1 (<span style=\"color: #0087ff; text-decoration-color: #0087ff\">LogProbLayer</span>) │ (<span style=\"color: #00d7ff; text-decoration-color: #00d7ff\">None</span>)                 │             <span style=\"color: #00af00; text-decoration-color: #00af00\">0</span> │\n",
       "└─────────────────────────────────┴────────────────────────┴───────────────┘\n",
       "</pre>\n"
      ],
      "text/plain": [
       "┏━━━━━━━━━━━━━━━━━━━━━━━━━━━━━━━━━┳━━━━━━━━━━━━━━━━━━━━━━━━┳━━━━━━━━━━━━━━━┓\n",
       "┃\u001b[1m \u001b[0m\u001b[1mLayer (type)                   \u001b[0m\u001b[1m \u001b[0m┃\u001b[1m \u001b[0m\u001b[1mOutput Shape          \u001b[0m\u001b[1m \u001b[0m┃\u001b[1m \u001b[0m\u001b[1m      Param #\u001b[0m\u001b[1m \u001b[0m┃\n",
       "┡━━━━━━━━━━━━━━━━━━━━━━━━━━━━━━━━━╇━━━━━━━━━━━━━━━━━━━━━━━━╇━━━━━━━━━━━━━━━┩\n",
       "│ input_layer_1 (\u001b[38;5;33mInputLayer\u001b[0m)      │ (\u001b[38;5;45mNone\u001b[0m, \u001b[38;5;34m28\u001b[0m, \u001b[38;5;34m28\u001b[0m, \u001b[38;5;34m1\u001b[0m)      │             \u001b[38;5;34m0\u001b[0m │\n",
       "├─────────────────────────────────┼────────────────────────┼───────────────┤\n",
       "│ log_prob_layer_1 (\u001b[38;5;33mLogProbLayer\u001b[0m) │ (\u001b[38;5;45mNone\u001b[0m)                 │             \u001b[38;5;34m0\u001b[0m │\n",
       "└─────────────────────────────────┴────────────────────────┴───────────────┘\n"
      ]
     },
     "metadata": {},
     "output_type": "display_data"
    },
    {
     "data": {
      "text/html": [
       "<pre style=\"white-space:pre;overflow-x:auto;line-height:normal;font-family:Menlo,'DejaVu Sans Mono',consolas,'Courier New',monospace\"><span style=\"font-weight: bold\"> Total params: </span><span style=\"color: #00af00; text-decoration-color: #00af00\">0</span> (0.00 B)\n",
       "</pre>\n"
      ],
      "text/plain": [
       "\u001b[1m Total params: \u001b[0m\u001b[38;5;34m0\u001b[0m (0.00 B)\n"
      ]
     },
     "metadata": {},
     "output_type": "display_data"
    },
    {
     "data": {
      "text/html": [
       "<pre style=\"white-space:pre;overflow-x:auto;line-height:normal;font-family:Menlo,'DejaVu Sans Mono',consolas,'Courier New',monospace\"><span style=\"font-weight: bold\"> Trainable params: </span><span style=\"color: #00af00; text-decoration-color: #00af00\">0</span> (0.00 B)\n",
       "</pre>\n"
      ],
      "text/plain": [
       "\u001b[1m Trainable params: \u001b[0m\u001b[38;5;34m0\u001b[0m (0.00 B)\n"
      ]
     },
     "metadata": {},
     "output_type": "display_data"
    },
    {
     "data": {
      "text/html": [
       "<pre style=\"white-space:pre;overflow-x:auto;line-height:normal;font-family:Menlo,'DejaVu Sans Mono',consolas,'Courier New',monospace\"><span style=\"font-weight: bold\"> Non-trainable params: </span><span style=\"color: #00af00; text-decoration-color: #00af00\">0</span> (0.00 B)\n",
       "</pre>\n"
      ],
      "text/plain": [
       "\u001b[1m Non-trainable params: \u001b[0m\u001b[38;5;34m0\u001b[0m (0.00 B)\n"
      ]
     },
     "metadata": {},
     "output_type": "display_data"
    },
    {
     "name": "stdout",
     "output_type": "stream",
     "text": [
      "None\n",
      "Trainable weights:  []\n"
     ]
    }
   ],
   "source": [
    "print(pixelcnn.summary())\n",
    "print(\"Trainable weights: \", pixelcnn.trainable_weights)"
   ]
  },
  {
   "cell_type": "markdown",
   "id": "ca1f35ce",
   "metadata": {},
   "source": [
    "### Sample Images from trained model\n"
   ]
  },
  {
   "cell_type": "code",
   "execution_count": 21,
   "id": "deb857d9",
   "metadata": {},
   "outputs": [
    {
     "data": {
      "image/png": "[encoded data removed]",
      "text/plain": [
       "<Figure size 600x600 with 16 Axes>"
      ]
     },
     "metadata": {},
     "output_type": "display_data"
    }
   ],
   "source": [
    "\n",
    "# Sample images from the trained model\n",
    "n_samples = 16\n",
    "log_prob_layer = pixelcnn.layers[-1]\n",
    "generated_images = log_prob_layer.sample(n_samples)  # shape: (n_samples, 28, 28, 1)\n",
    "\n",
    "# Display\n",
    "plt.figure(figsize=(6,6))\n",
    "for i in range(n_samples):\n",
    "    plt.subplot(4,4,i+1)\n",
    "    plt.imshow(generated_images[i, ..., 0], cmap=\"gray\")\n",
    "    plt.axis('off')\n",
    "plt.tight_layout()\n",
    "plt.show()"
   ]
  },
  {
   "cell_type": "code",
   "execution_count": null,
   "id": "7e617e8d",
   "metadata": {},
   "outputs": [],
   "source": []
  }
 ],
 "metadata": {
  "kernelspec": {
   "display_name": ".venv",
   "language": "python",
   "name": "python3"
  },
  "language_info": {
   "codemirror_mode": {
    "name": "ipython",
    "version": 3
   },
   "file_extension": ".py",
   "mimetype": "text/x-python",
   "name": "python",
   "nbconvert_exporter": "python",
   "pygments_lexer": "ipython3",
   "version": "3.12.3"
  }
 },
 "nbformat": 4,
 "nbformat_minor": 5
}
