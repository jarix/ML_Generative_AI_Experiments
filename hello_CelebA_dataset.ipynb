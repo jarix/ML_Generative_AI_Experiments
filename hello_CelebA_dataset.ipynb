{
 "cells": [
  {
   "cell_type": "code",
   "execution_count": 1,
   "id": "706adef8",
   "metadata": {},
   "outputs": [],
   "source": [
    "# Prequisites\n",
    "\n",
    "import pandas as pd"
   ]
  },
  {
   "cell_type": "markdown",
   "id": "c45ff6de",
   "metadata": {},
   "source": [
    "Load CelebA Attributes "
   ]
  },
  {
   "cell_type": "code",
   "execution_count": 10,
   "id": "77ab4352",
   "metadata": {},
   "outputs": [
    {
     "data": {
      "application/vnd.microsoft.datawrangler.viewer.v0+json": {
       "columns": [
        {
         "name": "index",
         "rawType": "int64",
         "type": "integer"
        },
        {
         "name": "image_id",
         "rawType": "object",
         "type": "string"
        },
        {
         "name": "5_o_Clock_Shadow",
         "rawType": "int64",
         "type": "integer"
        },
        {
         "name": "Arched_Eyebrows",
         "rawType": "int64",
         "type": "integer"
        },
        {
         "name": "Attractive",
         "rawType": "int64",
         "type": "integer"
        },
        {
         "name": "Bags_Under_Eyes",
         "rawType": "int64",
         "type": "integer"
        },
        {
         "name": "Bald",
         "rawType": "int64",
         "type": "integer"
        },
        {
         "name": "Bangs",
         "rawType": "int64",
         "type": "integer"
        },
        {
         "name": "Big_Lips",
         "rawType": "int64",
         "type": "integer"
        },
        {
         "name": "Big_Nose",
         "rawType": "int64",
         "type": "integer"
        },
        {
         "name": "Black_Hair",
         "rawType": "int64",
         "type": "integer"
        },
        {
         "name": "Blond_Hair",
         "rawType": "int64",
         "type": "integer"
        },
        {
         "name": "Blurry",
         "rawType": "int64",
         "type": "integer"
        },
        {
         "name": "Brown_Hair",
         "rawType": "int64",
         "type": "integer"
        },
        {
         "name": "Bushy_Eyebrows",
         "rawType": "int64",
         "type": "integer"
        },
        {
         "name": "Chubby",
         "rawType": "int64",
         "type": "integer"
        },
        {
         "name": "Double_Chin",
         "rawType": "int64",
         "type": "integer"
        },
        {
         "name": "Eyeglasses",
         "rawType": "int64",
         "type": "integer"
        },
        {
         "name": "Goatee",
         "rawType": "int64",
         "type": "integer"
        },
        {
         "name": "Gray_Hair",
         "rawType": "int64",
         "type": "integer"
        },
        {
         "name": "Heavy_Makeup",
         "rawType": "int64",
         "type": "integer"
        },
        {
         "name": "High_Cheekbones",
         "rawType": "int64",
         "type": "integer"
        },
        {
         "name": "Male",
         "rawType": "int64",
         "type": "integer"
        },
        {
         "name": "Mouth_Slightly_Open",
         "rawType": "int64",
         "type": "integer"
        },
        {
         "name": "Mustache",
         "rawType": "int64",
         "type": "integer"
        },
        {
         "name": "Narrow_Eyes",
         "rawType": "int64",
         "type": "integer"
        },
        {
         "name": "No_Beard",
         "rawType": "int64",
         "type": "integer"
        },
        {
         "name": "Oval_Face",
         "rawType": "int64",
         "type": "integer"
        },
        {
         "name": "Pale_Skin",
         "rawType": "int64",
         "type": "integer"
        },
        {
         "name": "Pointy_Nose",
         "rawType": "int64",
         "type": "integer"
        },
        {
         "name": "Receding_Hairline",
         "rawType": "int64",
         "type": "integer"
        },
        {
         "name": "Rosy_Cheeks",
         "rawType": "int64",
         "type": "integer"
        },
        {
         "name": "Sideburns",
         "rawType": "int64",
         "type": "integer"
        },
        {
         "name": "Smiling",
         "rawType": "int64",
         "type": "integer"
        },
        {
         "name": "Straight_Hair",
         "rawType": "int64",
         "type": "integer"
        },
        {
         "name": "Wavy_Hair",
         "rawType": "int64",
         "type": "integer"
        },
        {
         "name": "Wearing_Earrings",
         "rawType": "int64",
         "type": "integer"
        },
        {
         "name": "Wearing_Hat",
         "rawType": "int64",
         "type": "integer"
        },
        {
         "name": "Wearing_Lipstick",
         "rawType": "int64",
         "type": "integer"
        },
        {
         "name": "Wearing_Necklace",
         "rawType": "int64",
         "type": "integer"
        },
        {
         "name": "Wearing_Necktie",
         "rawType": "int64",
         "type": "integer"
        },
        {
         "name": "Young",
         "rawType": "int64",
         "type": "integer"
        }
       ],
       "ref": "d9896e9a-c825-4faf-88e7-515d18bcb076",
       "rows": [
        [
         "0",
         "000001.jpg",
         "0",
         "1",
         "1",
         "0",
         "0",
         "0",
         "0",
         "0",
         "0",
         "0",
         "0",
         "1",
         "0",
         "0",
         "0",
         "0",
         "0",
         "0",
         "1",
         "1",
         "0",
         "1",
         "0",
         "0",
         "1",
         "0",
         "0",
         "1",
         "0",
         "0",
         "0",
         "1",
         "1",
         "0",
         "1",
         "0",
         "1",
         "0",
         "0",
         "1"
        ],
        [
         "1",
         "000002.jpg",
         "0",
         "0",
         "0",
         "1",
         "0",
         "0",
         "0",
         "1",
         "0",
         "0",
         "0",
         "1",
         "0",
         "0",
         "0",
         "0",
         "0",
         "0",
         "0",
         "1",
         "0",
         "1",
         "0",
         "0",
         "1",
         "0",
         "0",
         "0",
         "0",
         "0",
         "0",
         "1",
         "0",
         "0",
         "0",
         "0",
         "0",
         "0",
         "0",
         "1"
        ],
        [
         "2",
         "000003.jpg",
         "0",
         "0",
         "0",
         "0",
         "0",
         "0",
         "1",
         "0",
         "0",
         "0",
         "1",
         "0",
         "0",
         "0",
         "0",
         "0",
         "0",
         "0",
         "0",
         "0",
         "1",
         "0",
         "0",
         "1",
         "1",
         "0",
         "0",
         "1",
         "0",
         "0",
         "0",
         "0",
         "0",
         "1",
         "0",
         "0",
         "0",
         "0",
         "0",
         "1"
        ],
        [
         "3",
         "000004.jpg",
         "0",
         "0",
         "1",
         "0",
         "0",
         "0",
         "0",
         "0",
         "0",
         "0",
         "0",
         "0",
         "0",
         "0",
         "0",
         "0",
         "0",
         "0",
         "0",
         "0",
         "0",
         "0",
         "0",
         "0",
         "1",
         "0",
         "0",
         "1",
         "0",
         "0",
         "0",
         "0",
         "1",
         "0",
         "1",
         "0",
         "1",
         "1",
         "0",
         "1"
        ],
        [
         "4",
         "000005.jpg",
         "0",
         "1",
         "1",
         "0",
         "0",
         "0",
         "1",
         "0",
         "0",
         "0",
         "0",
         "0",
         "0",
         "0",
         "0",
         "0",
         "0",
         "0",
         "1",
         "0",
         "0",
         "0",
         "0",
         "1",
         "1",
         "0",
         "0",
         "1",
         "0",
         "0",
         "0",
         "0",
         "0",
         "0",
         "0",
         "0",
         "1",
         "0",
         "0",
         "1"
        ]
       ],
       "shape": {
        "columns": 41,
        "rows": 5
       }
      },
      "text/html": [
       "<div>\n",
       "<style scoped>\n",
       "    .dataframe tbody tr th:only-of-type {\n",
       "        vertical-align: middle;\n",
       "    }\n",
       "\n",
       "    .dataframe tbody tr th {\n",
       "        vertical-align: top;\n",
       "    }\n",
       "\n",
       "    .dataframe thead th {\n",
       "        text-align: right;\n",
       "    }\n",
       "</style>\n",
       "<table border=\"1\" class=\"dataframe\">\n",
       "  <thead>\n",
       "    <tr style=\"text-align: right;\">\n",
       "      <th></th>\n",
       "      <th>image_id</th>\n",
       "      <th>5_o_Clock_Shadow</th>\n",
       "      <th>Arched_Eyebrows</th>\n",
       "      <th>Attractive</th>\n",
       "      <th>Bags_Under_Eyes</th>\n",
       "      <th>Bald</th>\n",
       "      <th>Bangs</th>\n",
       "      <th>Big_Lips</th>\n",
       "      <th>Big_Nose</th>\n",
       "      <th>Black_Hair</th>\n",
       "      <th>...</th>\n",
       "      <th>Sideburns</th>\n",
       "      <th>Smiling</th>\n",
       "      <th>Straight_Hair</th>\n",
       "      <th>Wavy_Hair</th>\n",
       "      <th>Wearing_Earrings</th>\n",
       "      <th>Wearing_Hat</th>\n",
       "      <th>Wearing_Lipstick</th>\n",
       "      <th>Wearing_Necklace</th>\n",
       "      <th>Wearing_Necktie</th>\n",
       "      <th>Young</th>\n",
       "    </tr>\n",
       "  </thead>\n",
       "  <tbody>\n",
       "    <tr>\n",
       "      <th>0</th>\n",
       "      <td>000001.jpg</td>\n",
       "      <td>0</td>\n",
       "      <td>1</td>\n",
       "      <td>1</td>\n",
       "      <td>0</td>\n",
       "      <td>0</td>\n",
       "      <td>0</td>\n",
       "      <td>0</td>\n",
       "      <td>0</td>\n",
       "      <td>0</td>\n",
       "      <td>...</td>\n",
       "      <td>0</td>\n",
       "      <td>1</td>\n",
       "      <td>1</td>\n",
       "      <td>0</td>\n",
       "      <td>1</td>\n",
       "      <td>0</td>\n",
       "      <td>1</td>\n",
       "      <td>0</td>\n",
       "      <td>0</td>\n",
       "      <td>1</td>\n",
       "    </tr>\n",
       "    <tr>\n",
       "      <th>1</th>\n",
       "      <td>000002.jpg</td>\n",
       "      <td>0</td>\n",
       "      <td>0</td>\n",
       "      <td>0</td>\n",
       "      <td>1</td>\n",
       "      <td>0</td>\n",
       "      <td>0</td>\n",
       "      <td>0</td>\n",
       "      <td>1</td>\n",
       "      <td>0</td>\n",
       "      <td>...</td>\n",
       "      <td>0</td>\n",
       "      <td>1</td>\n",
       "      <td>0</td>\n",
       "      <td>0</td>\n",
       "      <td>0</td>\n",
       "      <td>0</td>\n",
       "      <td>0</td>\n",
       "      <td>0</td>\n",
       "      <td>0</td>\n",
       "      <td>1</td>\n",
       "    </tr>\n",
       "    <tr>\n",
       "      <th>2</th>\n",
       "      <td>000003.jpg</td>\n",
       "      <td>0</td>\n",
       "      <td>0</td>\n",
       "      <td>0</td>\n",
       "      <td>0</td>\n",
       "      <td>0</td>\n",
       "      <td>0</td>\n",
       "      <td>1</td>\n",
       "      <td>0</td>\n",
       "      <td>0</td>\n",
       "      <td>...</td>\n",
       "      <td>0</td>\n",
       "      <td>0</td>\n",
       "      <td>0</td>\n",
       "      <td>1</td>\n",
       "      <td>0</td>\n",
       "      <td>0</td>\n",
       "      <td>0</td>\n",
       "      <td>0</td>\n",
       "      <td>0</td>\n",
       "      <td>1</td>\n",
       "    </tr>\n",
       "    <tr>\n",
       "      <th>3</th>\n",
       "      <td>000004.jpg</td>\n",
       "      <td>0</td>\n",
       "      <td>0</td>\n",
       "      <td>1</td>\n",
       "      <td>0</td>\n",
       "      <td>0</td>\n",
       "      <td>0</td>\n",
       "      <td>0</td>\n",
       "      <td>0</td>\n",
       "      <td>0</td>\n",
       "      <td>...</td>\n",
       "      <td>0</td>\n",
       "      <td>0</td>\n",
       "      <td>1</td>\n",
       "      <td>0</td>\n",
       "      <td>1</td>\n",
       "      <td>0</td>\n",
       "      <td>1</td>\n",
       "      <td>1</td>\n",
       "      <td>0</td>\n",
       "      <td>1</td>\n",
       "    </tr>\n",
       "    <tr>\n",
       "      <th>4</th>\n",
       "      <td>000005.jpg</td>\n",
       "      <td>0</td>\n",
       "      <td>1</td>\n",
       "      <td>1</td>\n",
       "      <td>0</td>\n",
       "      <td>0</td>\n",
       "      <td>0</td>\n",
       "      <td>1</td>\n",
       "      <td>0</td>\n",
       "      <td>0</td>\n",
       "      <td>...</td>\n",
       "      <td>0</td>\n",
       "      <td>0</td>\n",
       "      <td>0</td>\n",
       "      <td>0</td>\n",
       "      <td>0</td>\n",
       "      <td>0</td>\n",
       "      <td>1</td>\n",
       "      <td>0</td>\n",
       "      <td>0</td>\n",
       "      <td>1</td>\n",
       "    </tr>\n",
       "  </tbody>\n",
       "</table>\n",
       "<p>5 rows × 41 columns</p>\n",
       "</div>"
      ],
      "text/plain": [
       "     image_id  5_o_Clock_Shadow  Arched_Eyebrows  Attractive  Bags_Under_Eyes  \\\n",
       "0  000001.jpg                 0                1           1                0   \n",
       "1  000002.jpg                 0                0           0                1   \n",
       "2  000003.jpg                 0                0           0                0   \n",
       "3  000004.jpg                 0                0           1                0   \n",
       "4  000005.jpg                 0                1           1                0   \n",
       "\n",
       "   Bald  Bangs  Big_Lips  Big_Nose  Black_Hair  ...  Sideburns  Smiling  \\\n",
       "0     0      0         0         0           0  ...          0        1   \n",
       "1     0      0         0         1           0  ...          0        1   \n",
       "2     0      0         1         0           0  ...          0        0   \n",
       "3     0      0         0         0           0  ...          0        0   \n",
       "4     0      0         1         0           0  ...          0        0   \n",
       "\n",
       "   Straight_Hair  Wavy_Hair  Wearing_Earrings  Wearing_Hat  Wearing_Lipstick  \\\n",
       "0              1          0                 1            0                 1   \n",
       "1              0          0                 0            0                 0   \n",
       "2              0          1                 0            0                 0   \n",
       "3              1          0                 1            0                 1   \n",
       "4              0          0                 0            0                 1   \n",
       "\n",
       "   Wearing_Necklace  Wearing_Necktie  Young  \n",
       "0                 0                0      1  \n",
       "1                 0                0      1  \n",
       "2                 0                0      1  \n",
       "3                 1                0      1  \n",
       "4                 0                0      1  \n",
       "\n",
       "[5 rows x 41 columns]"
      ]
     },
     "execution_count": 10,
     "metadata": {},
     "output_type": "execute_result"
    }
   ],
   "source": [
    "# Load with whitespace delim, skipping the header line\n",
    "attr_file_path = \"d:\\\\Datasets\\\\celeba_dataset\\\\list_attr_celeba.csv\"\n",
    "df = pd.read_csv(attr_file_path)\n",
    "\n",
    "df= df.replace(-1, 0)  # Convert -1 to 0 \n",
    "\n",
    "df.head()"
   ]
  },
  {
   "cell_type": "code",
   "execution_count": 14,
   "id": "cefd64b6",
   "metadata": {},
   "outputs": [
    {
     "name": "stdout",
     "output_type": "stream",
     "text": [
      "Filtered image count: 2715\n"
     ]
    }
   ],
   "source": [
    "# Select smiling females with eyeclasses\n",
    "df_filtered = df[\n",
    "    #(df['Blond_Hair'] == 1) &\n",
    "    (df['Male'] == 0) &\n",
    "    (df['Eyeglasses'] == 1)\n",
    "]\n",
    "print(f\"Filtered image count: {len(df_filtered)}\")"
   ]
  },
  {
   "cell_type": "markdown",
   "id": "5569827b",
   "metadata": {},
   "source": [
    "Copy images to a new folder"
   ]
  },
  {
   "cell_type": "code",
   "execution_count": 15,
   "id": "00b5ebd2",
   "metadata": {},
   "outputs": [],
   "source": [
    "import os\n",
    "import shutil\n",
    "\n",
    "src_dir = \"d:\\\\Datasets\\\\celeba_dataset\\\\img_align_celeba\"\n",
    "dst_dir = \"d:\\\\Datasets\\\\celeba_dataset\\\\img_filtered\"\n",
    "os.makedirs(dst_dir, exist_ok=True)\n",
    "\n",
    "for fname in df_filtered['image_id']:\n",
    "    src = os.path.join(src_dir, fname)\n",
    "    dst = os.path.join(dst_dir, fname)\n",
    "    shutil.copyfile(src, dst)"
   ]
  }
 ],
 "metadata": {
  "kernelspec": {
   "display_name": ".venv",
   "language": "python",
   "name": "python3"
  },
  "language_info": {
   "codemirror_mode": {
    "name": "ipython",
    "version": 3
   },
   "file_extension": ".py",
   "mimetype": "text/x-python",
   "name": "python",
   "nbconvert_exporter": "python",
   "pygments_lexer": "ipython3",
   "version": "3.12.7"
  }
 },
 "nbformat": 4,
 "nbformat_minor": 5
}
