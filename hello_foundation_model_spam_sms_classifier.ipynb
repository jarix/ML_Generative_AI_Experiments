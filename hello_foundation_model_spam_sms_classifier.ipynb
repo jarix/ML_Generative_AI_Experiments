{
 "cells": [
  {
   "cell_type": "markdown",
   "metadata": {},
   "source": [
    "# Hello Foundation model Spam SMS Classifier"
   ]
  },
  {
   "cell_type": "markdown",
   "metadata": {},
   "source": [
    "Utilize ChatGPT foundation model to classify SMS messages to \"Spam\" or \"Not Spam\""
   ]
  },
  {
   "cell_type": "markdown",
   "metadata": {},
   "source": [
    "### Get Data"
   ]
  },
  {
   "cell_type": "code",
   "execution_count": 1,
   "metadata": {},
   "outputs": [
    {
     "name": "stdout",
     "output_type": "stream",
     "text": [
      "Label: '0', sms: 'Go until jurong point, crazy.. Available only in bugis n great world la e buffet... Cine there got amore wat...\n",
      "'\n",
      "Label: '0', sms: 'Ok lar... Joking wif u oni...\n",
      "'\n",
      "Label: '1', sms: 'Free entry in 2 a wkly comp to win FA Cup final tkts 21st May 2005. Text FA to 87121 to receive entry question(std txt rate)T&C's apply 08452810075over18's\n",
      "'\n",
      "Label: '0', sms: 'U dun say so early hor... U c already then say...\n",
      "'\n",
      "Label: '0', sms: 'Nah I don't think he goes to usf, he lives around here though\n",
      "'\n",
      "Label: '1', sms: 'FreeMsg Hey there darling it's been 3 week's now and no word back! I'd like some fun you up for it still? Tb ok! XxX std chgs to send, £1.50 to rcv\n",
      "'\n",
      "Label: '0', sms: 'Even my brother is not like to speak with me. They treat me like aids patent.\n",
      "'\n",
      "Label: '0', sms: 'As per your request 'Melle Melle (Oru Minnaminunginte Nurungu Vettam)' has been set as your callertune for all Callers. Press *9 to copy your friends Callertune\n",
      "'\n",
      "Label: '1', sms: 'WINNER!! As a valued network customer you have been selected to receivea £900 prize reward! To claim call 09061701461. Claim code KL341. Valid 12 hours only.\n",
      "'\n",
      "Label: '1', sms: 'Had your mobile 11 months or more? U R entitled to Update to the latest colour mobiles with camera for Free! Call The Mobile Update Co FREE on 08002986030\n",
      "'\n"
     ]
    }
   ],
   "source": [
    "from datasets import load_dataset\n",
    "\n",
    "# Load spam dataset\n",
    "spam_data = load_dataset(\"sms_spam\", split=[\"train\"])[0]\n",
    "\n",
    "for item in spam_data.select(range(10)):\n",
    "    sms = item[\"sms\"]\n",
    "    label = item[\"label\"]\n",
    "    print(f\"Label: '{label}', sms: '{sms}'\")\n"
   ]
  },
  {
   "cell_type": "markdown",
   "metadata": {},
   "source": [
    "### Helper Functions"
   ]
  },
  {
   "cell_type": "markdown",
   "metadata": {},
   "source": [
    "Convert between labels and ids"
   ]
  },
  {
   "cell_type": "code",
   "execution_count": 2,
   "metadata": {},
   "outputs": [
    {
     "name": "stdout",
     "output_type": "stream",
     "text": [
      "Label: 'HAM', sms: 'Go until jurong point, crazy.. Available only in bugis n great world la e buffet... Cine there got amore wat...\n",
      "'\n",
      "Label: 'HAM', sms: 'Ok lar... Joking wif u oni...\n",
      "'\n",
      "Label: 'SPAM', sms: 'Free entry in 2 a wkly comp to win FA Cup final tkts 21st May 2005. Text FA to 87121 to receive entry question(std txt rate)T&C's apply 08452810075over18's\n",
      "'\n",
      "Label: 'HAM', sms: 'U dun say so early hor... U c already then say...\n",
      "'\n",
      "Label: 'HAM', sms: 'Nah I don't think he goes to usf, he lives around here though\n",
      "'\n",
      "Label: 'SPAM', sms: 'FreeMsg Hey there darling it's been 3 week's now and no word back! I'd like some fun you up for it still? Tb ok! XxX std chgs to send, £1.50 to rcv\n",
      "'\n",
      "Label: 'HAM', sms: 'Even my brother is not like to speak with me. They treat me like aids patent.\n",
      "'\n",
      "Label: 'HAM', sms: 'As per your request 'Melle Melle (Oru Minnaminunginte Nurungu Vettam)' has been set as your callertune for all Callers. Press *9 to copy your friends Callertune\n",
      "'\n",
      "Label: 'SPAM', sms: 'WINNER!! As a valued network customer you have been selected to receivea £900 prize reward! To claim call 09061701461. Claim code KL341. Valid 12 hours only.\n",
      "'\n",
      "Label: 'SPAM', sms: 'Had your mobile 11 months or more? U R entitled to Update to the latest colour mobiles with camera for Free! Call The Mobile Update Co FREE on 08002986030\n",
      "'\n"
     ]
    }
   ],
   "source": [
    "id2label = {0: \"HAM\", 1: \"SPAM\"}\n",
    "label2id = {\"HAM\": 0, \"SPAM\": 1}\n",
    "\n",
    "for item in spam_data.select(range(10)):\n",
    "    sms = item[\"sms\"]\n",
    "    id_label = item[\"label\"]\n",
    "    print(f\"Label: '{id2label[id_label]}', sms: '{sms}'\")"
   ]
  },
  {
   "cell_type": "markdown",
   "metadata": {},
   "source": [
    "Format SMS messages for LLM"
   ]
  },
  {
   "cell_type": "code",
   "execution_count": 4,
   "metadata": {},
   "outputs": [],
   "source": [
    "def get_sms_msg_string(dataset, item_numbers, include_labels=False):\n",
    "    sms_msg_string = \"\"\n",
    "    for item_no, item in zip(item_numbers, dataset.select(item_numbers)):\n",
    "        sms = item[\"sms\"]\n",
    "        id_label = item[\"label\"]\n",
    "\n",
    "        if include_labels:\n",
    "            sms_msg_string += (f\"{item_no} (label = {id2label[id_label]}) -> sms: {sms}\\n\")\n",
    "        else:\n",
    "            sms_msg_string += (f\"{item_no} -> sms: {sms}\\n\")\n",
    "\n",
    "    return sms_msg_string"
   ]
  },
  {
   "cell_type": "code",
   "execution_count": 5,
   "metadata": {},
   "outputs": [
    {
     "name": "stdout",
     "output_type": "stream",
     "text": [
      "0 (label = HAM) -> sms: Go until jurong point, crazy.. Available only in bugis n great world la e buffet... Cine there got amore wat...\n",
      "\n",
      "1 (label = HAM) -> sms: Ok lar... Joking wif u oni...\n",
      "\n",
      "2 (label = SPAM) -> sms: Free entry in 2 a wkly comp to win FA Cup final tkts 21st May 2005. Text FA to 87121 to receive entry question(std txt rate)T&C's apply 08452810075over18's\n",
      "\n",
      "3 (label = HAM) -> sms: U dun say so early hor... U c already then say...\n",
      "\n",
      "4 (label = HAM) -> sms: Nah I don't think he goes to usf, he lives around here though\n",
      "\n",
      "5 (label = SPAM) -> sms: FreeMsg Hey there darling it's been 3 week's now and no word back! I'd like some fun you up for it still? Tb ok! XxX std chgs to send, £1.50 to rcv\n",
      "\n",
      "6 (label = HAM) -> sms: Even my brother is not like to speak with me. They treat me like aids patent.\n",
      "\n",
      "7 (label = HAM) -> sms: As per your request 'Melle Melle (Oru Minnaminunginte Nurungu Vettam)' has been set as your callertune for all Callers. Press *9 to copy your friends Callertune\n",
      "\n",
      "8 (label = SPAM) -> sms: WINNER!! As a valued network customer you have been selected to receivea £900 prize reward! To claim call 09061701461. Claim code KL341. Valid 12 hours only.\n",
      "\n",
      "9 (label = SPAM) -> sms: Had your mobile 11 months or more? U R entitled to Update to the latest colour mobiles with camera for Free! Call The Mobile Update Co FREE on 08002986030\n",
      "\n",
      "\n"
     ]
    }
   ],
   "source": [
    "print(get_sms_msg_string(spam_data, range(10), include_labels=True))"
   ]
  },
  {
   "cell_type": "markdown",
   "metadata": {},
   "source": [
    "### Prompt LLM"
   ]
  },
  {
   "cell_type": "markdown",
   "metadata": {},
   "source": [
    "Get some messages to produce a Prompt for the LLM"
   ]
  },
  {
   "cell_type": "code",
   "execution_count": 6,
   "metadata": {},
   "outputs": [
    {
     "name": "stdout",
     "output_type": "stream",
     "text": [
      "\n",
      "20 -> sms: Is that seriously how you spell his name?\n",
      "\n",
      "21 -> sms: I‘m going to try for 2 months ha ha only joking\n",
      "\n",
      "22 -> sms: So ü pay first lar... Then when is da stock comin...\n",
      "\n",
      "23 -> sms: Aft i finish my lunch then i go str down lor. Ard 3 smth lor. U finish ur lunch already?\n",
      "\n",
      "24 -> sms: Ffffffffff. Alright no way I can meet up with you sooner?\n",
      "\n",
      "25 -> sms: Just forced myself to eat a slice. I'm really not hungry tho. This sucks. Mark is getting worried. He knows I'm sick when I turn down pizza. Lol\n",
      "\n",
      "26 -> sms: Lol your always so convincing.\n",
      "\n",
      "27 -> sms: Did you catch the bus ? Are you frying an egg ? Did you make a tea? Are you eating your mom's left over dinner ? Do you feel my Love ?\n",
      "\n",
      "\n",
      "---\n",
      "Please classify the above messages as SPAM or NOT SPAM = HAM. Respond in JSON format.\n",
      "Use this format {\"0\": \"HAM\", \"1\": \"SPAM\"}\n",
      "\n",
      "\n"
     ]
    }
   ],
   "source": [
    "# Get message strings for a few messages \n",
    "sms_msg_string = get_sms_msg_string(spam_data, range(20, 28))\n",
    "\n",
    "# Prompt for LLM including messages \n",
    "query_string = f\"\"\"\n",
    "{sms_msg_string}\n",
    "---\n",
    "Please classify the above messages as SPAM or NOT SPAM = HAM. Respond in JSON format.\n",
    "Use this format {{\"0\": \"HAM\", \"1\": \"SPAM\"}}\n",
    "\n",
    "\"\"\"\n",
    "print(query_string)"
   ]
  },
  {
   "cell_type": "code",
   "execution_count": 16,
   "metadata": {},
   "outputs": [],
   "source": [
    "# Response string from ChatGPT\n",
    "response_1 = {\n",
    "  \"20\": \"HAM\",\n",
    "  \"21\": \"HAM\",\n",
    "  \"22\": \"SPAM\",\n",
    "  \"23\": \"HAM\",\n",
    "  \"24\": \"HAM\",\n",
    "  \"25\": \"HAM\",\n",
    "  \"26\": \"HAM\",\n",
    "  \"27\": \"HAM\"\n",
    "}\n"
   ]
  },
  {
   "cell_type": "markdown",
   "metadata": {},
   "source": [
    "### Check Accuracy"
   ]
  },
  {
   "cell_type": "code",
   "execution_count": 17,
   "metadata": {},
   "outputs": [],
   "source": [
    "def check_accuracy(response, dataset, original_indices):\n",
    "    nr_correct = 0\n",
    "    nr_total = 0\n",
    "    for item_no, prediction in response.items():\n",
    "        if int(item_no) not in original_indices: \n",
    "            continue\n",
    "\n",
    "        id_label = dataset[int(item_no)][\"label\"]\n",
    "        label = id2label[id_label]\n",
    "\n",
    "        # If LLM prediction is correct, increment correct count\n",
    "        if prediction.lower() == label.lower():\n",
    "            nr_correct += 1\n",
    "\n",
    "        # Increment total count\n",
    "        nr_total += 1\n",
    "\n",
    "        try:\n",
    "            accuracy = nr_correct / nr_total\n",
    "        except ZeroDivisionError:\n",
    "            print(\"No matching indices found in the dataset.\")\n",
    "            return\n",
    "        \n",
    "    return round(accuracy, 2)\n"
   ]
  },
  {
   "cell_type": "code",
   "execution_count": 18,
   "metadata": {},
   "outputs": [
    {
     "name": "stdout",
     "output_type": "stream",
     "text": [
      "Accuracy when one-shot prompt: 0.88\n"
     ]
    }
   ],
   "source": [
    "print(f\"Accuracy when one-shot prompt: {check_accuracy(response_1, spam_data, range(20, 28))}\")"
   ]
  },
  {
   "cell_type": "markdown",
   "metadata": {},
   "source": [
    "### Prompt with Examples"
   ]
  },
  {
   "cell_type": "code",
   "execution_count": 19,
   "metadata": {},
   "outputs": [
    {
     "name": "stdout",
     "output_type": "stream",
     "text": [
      "\n",
      "50 (label = HAM) -> sms: What you thinked about me. First time you saw me in class.\n",
      "\n",
      "51 (label = HAM) -> sms: A gram usually runs like  &lt;#&gt; , a half eighth is smarter though and gets you almost a whole second gram for  &lt;#&gt;\n",
      "\n",
      "52 (label = HAM) -> sms: K fyi x has a ride early tomorrow morning but he's crashing at our place tonight\n",
      "\n",
      "53 (label = HAM) -> sms: Wow. I never realized that you were so embarassed by your accomodations. I thought you liked it, since i was doing the best i could and you always seemed so happy about \"the cave\". I'm sorry I didn't and don't have more to give. I'm sorry i offered. I'm sorry your room was so embarassing.\n",
      "\n",
      "54 (label = SPAM) -> sms: SMS. ac Sptv: The New Jersey Devils and the Detroit Red Wings play Ice Hockey. Correct or Incorrect? End? Reply END SPTV\n",
      "\n",
      "55 (label = HAM) -> sms: Do you know what Mallika Sherawat did yesterday? Find out now @  &lt;URL&gt;\n",
      "\n",
      "56 (label = SPAM) -> sms: Congrats! 1 year special cinema pass for 2 is yours. call 09061209465 now! C Suprman V, Matrix3, StarWars3, etc all 4 FREE! bx420-ip4-5we. 150pm. Dont miss out! \n",
      "\n",
      "57 (label = HAM) -> sms: Sorry, I'll call later in meeting.\n",
      "\n",
      "58 (label = HAM) -> sms: Tell where you reached\n",
      "\n",
      "59 (label = HAM) -> sms: Yes..gauti and sehwag out of odi series.\n",
      "\n",
      "\n",
      "---\n",
      "Please classify the above messages as SPAM or NOT SPAM = HAM. Respond in JSON format.\n",
      "Use this format {\"0\": \"HAM\", \"1\": \"SPAM\"}\n",
      "\n",
      "\n"
     ]
    }
   ],
   "source": [
    "# Get message strings for a few messages \n",
    "sms_msg_string = get_sms_msg_string(spam_data, range(50, 60), include_labels=True)\n",
    "\n",
    "# Prompt for LLM including messages \n",
    "query_string = f\"\"\"\n",
    "{sms_msg_string}\n",
    "---\n",
    "Please classify the above messages as SPAM or NOT SPAM = HAM. Respond in JSON format.\n",
    "Use this format {{\"0\": \"HAM\", \"1\": \"SPAM\"}}\n",
    "\n",
    "\"\"\"\n",
    "print(query_string)"
   ]
  },
  {
   "cell_type": "code",
   "execution_count": 20,
   "metadata": {},
   "outputs": [],
   "source": [
    "# CHatGPT response\n",
    "response_2 = {\n",
    "  \"50\": \"HAM\",\n",
    "  \"51\": \"HAM\",\n",
    "  \"52\": \"HAM\",\n",
    "  \"53\": \"HAM\",\n",
    "  \"54\": \"SPAM\",\n",
    "  \"55\": \"HAM\",\n",
    "  \"56\": \"SPAM\",\n",
    "  \"57\": \"HAM\",\n",
    "  \"58\": \"HAM\",\n",
    "  \"59\": \"HAM\"\n",
    "}"
   ]
  },
  {
   "cell_type": "markdown",
   "metadata": {},
   "source": [
    "Check Accuracy"
   ]
  },
  {
   "cell_type": "code",
   "execution_count": null,
   "metadata": {},
   "outputs": [
    {
     "name": "stdout",
     "output_type": "stream",
     "text": [
      "Accuracy when prompted with examples: 1.00\n"
     ]
    },
    {
     "ename": "",
     "evalue": "",
     "output_type": "error",
     "traceback": [
      "\u001b[1;31mThe Kernel crashed while executing code in the current cell or a previous cell. \n",
      "\u001b[1;31mPlease review the code in the cell(s) to identify a possible cause of the failure. \n",
      "\u001b[1;31mClick <a href='https://aka.ms/vscodeJupyterKernelCrash'>here</a> for more info. \n",
      "\u001b[1;31mView Jupyter <a href='command:jupyter.viewOutput'>log</a> for further details."
     ]
    }
   ],
   "source": [
    "print(f\"Accuracy when prompted with examples: {check_accuracy(response_2, spam_data, range(50, 60)):.2f}\")"
   ]
  },
  {
   "cell_type": "code",
   "execution_count": null,
   "metadata": {},
   "outputs": [],
   "source": []
  }
 ],
 "metadata": {
  "kernelspec": {
   "display_name": ".venv",
   "language": "python",
   "name": "python3"
  },
  "language_info": {
   "codemirror_mode": {
    "name": "ipython",
    "version": 3
   },
   "file_extension": ".py",
   "mimetype": "text/x-python",
   "name": "python",
   "nbconvert_exporter": "python",
   "pygments_lexer": "ipython3",
   "version": "3.12.7"
  }
 },
 "nbformat": 4,
 "nbformat_minor": 2
}
